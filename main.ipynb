{
 "cells": [
  {
   "cell_type": "code",
   "execution_count": 3,
   "id": "a4ecba54",
   "metadata": {},
   "outputs": [],
   "source": [
    "import tensorflow as tf\n",
    "import pandas as pd\n",
    "import librosa\n",
    "import numpy as np\n",
    "import os "
   ]
  },
  {
   "cell_type": "code",
   "execution_count": null,
   "id": "5dd08a3f",
   "metadata": {},
   "outputs": [],
   "source": [
    "# num_clips = {\n",
    "#     'A#_Major' : 400,\n",
    "#     'A#_Minor' : 410,\n",
    "#     'A_Major' : 717,\n",
    "#     'A_Minor' : 1078,\n",
    "#     'B_Major' : 501,\n",
    "#     'B_Minor' : 1275,\n",
    "#     'C#_Major' : 410,\n",
    "#     'C#_Minor' : 534,\n",
    "#     'C_Major' : 444,\n",
    "#     'C_Minor' : 742,\n",
    "#     'D#_Major' : 452,\n",
    "#     'D#_Minor' : 489,\n",
    "#     'D_Major' : 666,\n",
    "#     'D_Minor' : 1028,\n",
    "#     'E_Major' : 942,\n",
    "#     'E_Minor' : 1127,\n",
    "#     'F#_Major' : 453,\n",
    "#     'F#_Minor' : 658,\n",
    "#     'F_Major' : 128,\n",
    "#     'F_Minor' : 283,\n",
    "#     'G#_Major' : 410,\n",
    "#     'G#_Minor' : 454,\n",
    "#     'G_Major' : 494,\n",
    "#     'G_Minor' : 839,\n",
    "# }\n",
    "\n",
    "class2idx = {\n",
    "    'C_Major': 0,   'C_Minor': 1,\n",
    "    'C#_Major': 2,  'C#_Minor': 3,\n",
    "    'D_Major': 4,   'D_Minor': 5,\n",
    "    'D#_Major': 6,  'D#_Minor': 7,\n",
    "    'E_Major': 8,   'E_Minor': 9,\n",
    "    'F_Major': 10,  'F_Minor': 11,\n",
    "    'F#_Major': 12, 'F#_Minor': 13,\n",
    "    'G_Major': 14,  'G_Minor': 15,\n",
    "    'G#_Major': 16, 'G#_Minor': 17,\n",
    "    'A_Major': 18,  'A_Minor': 19,\n",
    "    'A#_Major': 20, 'A#_Minor': 21,\n",
    "    'B_Major': 22,  'B_Minor': 23,\n",
    "}\n"
   ]
  },
  {
   "cell_type": "code",
   "execution_count": null,
   "id": "4019946a",
   "metadata": {},
   "outputs": [
    {
     "name": "stdout",
     "output_type": "stream",
     "text": [
      "(14934, 150, 646) (14934,)\n"
     ]
    }
   ],
   "source": [
    "from concurrent.futures import  ThreadPoolExecutor, as_completed\n",
    "audio_dir = \"E:/Coding/Projects/AudioCompass/trimmed_audio_mp3\"\n",
    "labels = []\n",
    "features = []\n",
    "\n",
    "def process_file(fname):\n",
    "    try:\n",
    "        path = os.path.join(audio_dir,fname)\n",
    "\n",
    "        parts = fname.replace(\"mp3\",\"\").split(\"_\")\n",
    "        key,scale = parts[0],parts[1]\n",
    "\n",
    "        label_str = f\"{key}_{scale}\"\n",
    "        label_idx = class2idx[label_str]\n",
    "\n",
    "        y,sr = librosa.load(path,duration=15)\n",
    "\n",
    "        S = librosa.feature.melspectrogram(y=y,sr=sr,n_mels=150)\n",
    "        log_S = librosa.power_to_db(S,ref=np.max)\n",
    "\n",
    "        return log_S,label_idx\n",
    "    except:\n",
    "        return None\n",
    "\n",
    "# if __name__ == \"__main__\":\n",
    "#     features, labels = [], []\n",
    "#     files = [f for f in os.listdir(audio_dir) if f.endswith(\".mp3\")]\n",
    "\n",
    "#     with ThreadPoolExecutor(max_workers=8) as executor:\n",
    "#         futures = [executor.submit(process_file, f) for f in files]\n",
    "#         for fut in as_completed(futures):\n",
    "#             result = fut.result()\n",
    "#             if result:\n",
    "#                 features.append(result[0])\n",
    "#                 labels.append(result[1])\n",
    "\n",
    "#     features = np.array(features)\n",
    "#     labels = np.array(labels)\n",
    "#     print(features.shape, labels.shape)\n"
   ]
  },
  {
   "cell_type": "code",
   "execution_count": 35,
   "id": "b7f44abb",
   "metadata": {},
   "outputs": [
    {
     "name": "stdout",
     "output_type": "stream",
     "text": [
      "(14934, 150, 646)\n",
      "(14934,)\n"
     ]
    }
   ],
   "source": [
    "features = np.array(features)\n",
    "labels = np.array(labels)\n",
    "print(features.shape)\n",
    "print(labels.shape)"
   ]
  },
  {
   "cell_type": "markdown",
   "id": "5e8df429",
   "metadata": {},
   "source": [
    "### To create numpy python file for storing the above data\n"
   ]
  },
  {
   "cell_type": "code",
   "execution_count": null,
   "id": "8cfd23a1",
   "metadata": {},
   "outputs": [],
   "source": [
    "# np.save(\"features.npy\", np.array(features))\n",
    "# np.save(\"labels.npy\", np.array(labels))"
   ]
  },
  {
   "cell_type": "markdown",
   "id": "550ddb8a",
   "metadata": {},
   "source": [
    "### Main Pipeline for training"
   ]
  },
  {
   "cell_type": "code",
   "execution_count": 37,
   "id": "0fc9a7fd",
   "metadata": {},
   "outputs": [],
   "source": [
    "features = np.load(\"features.npy\")\n",
    "labels = np.load(\"labels.npy\")"
   ]
  }
 ],
 "metadata": {
  "kernelspec": {
   "display_name": ".venv",
   "language": "python",
   "name": "python3"
  },
  "language_info": {
   "codemirror_mode": {
    "name": "ipython",
    "version": 3
   },
   "file_extension": ".py",
   "mimetype": "text/x-python",
   "name": "python",
   "nbconvert_exporter": "python",
   "pygments_lexer": "ipython3",
   "version": "3.12.6"
  }
 },
 "nbformat": 4,
 "nbformat_minor": 5
}
