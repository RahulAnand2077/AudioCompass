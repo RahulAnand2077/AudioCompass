{
 "cells": [
  {
   "cell_type": "code",
   "execution_count": 4,
   "id": "4d49ffa6",
   "metadata": {},
   "outputs": [],
   "source": [
    "# import os\n",
    "# import time\n",
    "# import random\n",
    "# import subprocess\n",
    "\n",
    "# download_root = \"ElevatedTracks\"\n",
    "# playlist_file = \"playlist.txt\"\n",
    "\n",
    "# os.makedirs(download_root, exist_ok=True)\n",
    "\n",
    "# def load_playlists():\n",
    "#     with open(playlist_file) as f:\n",
    "#         urls = [line.strip() for line in f if line.strip()]\n",
    "#     print(f\"✅ Found {len(urls)} playlists.\")\n",
    "#     return urls\n",
    "\n",
    "# def download_playlist(url):\n",
    "#     print(f\"⬇️ Downloading audio from: {url}\")\n",
    "#     cmd = [\n",
    "#         \"yt-dlp\",\n",
    "#         # \"--extractor-args\", \"youtube:player_client=web\",\n",
    "#         # \"--retries\", \"3\", \n",
    "#         \"-x\",  # extract audio\n",
    "#         \"--audio-format\", \"mp3\",  # or wav/m4a if you prefer\n",
    "#         \"-o\",\n",
    "#         os.path.join(download_root, \"%(playlist)s\", \"%(title)s.%(ext)s\"),\n",
    "#         url,\n",
    "#     ]\n",
    "#     subprocess.run(cmd, check=True)\n",
    "#     time.sleep(random.randint(10, 20))  # polite pause\n",
    "\n",
    "# if __name__ == \"__main__\":\n",
    "#     playlists = load_playlists()\n",
    "#     for url in playlists:\n",
    "#         try:\n",
    "#             download_playlist(url)\n",
    "#         except subprocess.CalledProcessError:\n",
    "#             print(f\"❌ Failed: {url}\")\n"
   ]
  }
 ],
 "metadata": {
  "kernelspec": {
   "display_name": "base",
   "language": "python",
   "name": "python3"
  },
  "language_info": {
   "codemirror_mode": {
    "name": "ipython",
    "version": 3
   },
   "file_extension": ".py",
   "mimetype": "text/x-python",
   "name": "python",
   "nbconvert_exporter": "python",
   "pygments_lexer": "ipython3",
   "version": "3.12.4"
  }
 },
 "nbformat": 4,
 "nbformat_minor": 5
}
